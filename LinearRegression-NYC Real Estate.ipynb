{
 "cells": [
  {
   "cell_type": "code",
   "execution_count": 180,
   "metadata": {},
   "outputs": [],
   "source": [
    "#Import Stuff\n",
    "import thinkplot\n",
    "import thinkstats2\n",
    "import pandas as pd\n",
    "import numpy as np\n",
    "import seaborn as sns\n",
    "import matplotlib.pyplot as plt\n",
    "from sklearn.metrics import mean_squared_error\n",
    "from sklearn.linear_model import LinearRegression\n",
    "import scipy.stats as ss\n",
    "import statsmodels.api as sm\n",
    "import math\n",
    "import random\n",
    "plt.rcParams[\"figure.figsize\"] = (8,8)"
   ]
  },
  {
   "cell_type": "code",
   "execution_count": 181,
   "metadata": {},
   "outputs": [
    {
     "data": {
      "text/html": [
       "<div>\n",
       "<style scoped>\n",
       "    .dataframe tbody tr th:only-of-type {\n",
       "        vertical-align: middle;\n",
       "    }\n",
       "\n",
       "    .dataframe tbody tr th {\n",
       "        vertical-align: top;\n",
       "    }\n",
       "\n",
       "    .dataframe thead th {\n",
       "        text-align: right;\n",
       "    }\n",
       "</style>\n",
       "<table border=\"1\" class=\"dataframe\">\n",
       "  <thead>\n",
       "    <tr style=\"text-align: right;\">\n",
       "      <th></th>\n",
       "      <th>BOROUGH</th>\n",
       "      <th>BLOCK</th>\n",
       "      <th>LOT</th>\n",
       "      <th>ZIP CODE</th>\n",
       "      <th>RESIDENTIAL UNITS</th>\n",
       "      <th>TOTAL UNITS</th>\n",
       "      <th>GROSS SQUARE FEET</th>\n",
       "      <th>YEAR BUILT</th>\n",
       "      <th>TAX CLASS AT TIME OF SALE</th>\n",
       "      <th>BUILDING CLASS AT TIME OF SALE</th>\n",
       "      <th>SALE PRICE</th>\n",
       "    </tr>\n",
       "  </thead>\n",
       "  <tbody>\n",
       "    <tr>\n",
       "      <th>0</th>\n",
       "      <td>1</td>\n",
       "      <td>392</td>\n",
       "      <td>6</td>\n",
       "      <td>10009</td>\n",
       "      <td>5</td>\n",
       "      <td>5</td>\n",
       "      <td>6440</td>\n",
       "      <td>1900</td>\n",
       "      <td>Low</td>\n",
       "      <td>C2</td>\n",
       "      <td>6625000</td>\n",
       "    </tr>\n",
       "    <tr>\n",
       "      <th>1</th>\n",
       "      <td>1</td>\n",
       "      <td>402</td>\n",
       "      <td>21</td>\n",
       "      <td>10009</td>\n",
       "      <td>10</td>\n",
       "      <td>10</td>\n",
       "      <td>6794</td>\n",
       "      <td>1913</td>\n",
       "      <td>Low</td>\n",
       "      <td>C4</td>\n",
       "      <td>3936272</td>\n",
       "    </tr>\n",
       "    <tr>\n",
       "      <th>2</th>\n",
       "      <td>1</td>\n",
       "      <td>404</td>\n",
       "      <td>55</td>\n",
       "      <td>10009</td>\n",
       "      <td>6</td>\n",
       "      <td>6</td>\n",
       "      <td>4615</td>\n",
       "      <td>1900</td>\n",
       "      <td>Low</td>\n",
       "      <td>C2</td>\n",
       "      <td>8000000</td>\n",
       "    </tr>\n",
       "    <tr>\n",
       "      <th>3</th>\n",
       "      <td>1</td>\n",
       "      <td>406</td>\n",
       "      <td>32</td>\n",
       "      <td>10009</td>\n",
       "      <td>8</td>\n",
       "      <td>8</td>\n",
       "      <td>4226</td>\n",
       "      <td>1920</td>\n",
       "      <td>Low</td>\n",
       "      <td>C4</td>\n",
       "      <td>3192840</td>\n",
       "    </tr>\n",
       "    <tr>\n",
       "      <th>4</th>\n",
       "      <td>1</td>\n",
       "      <td>387</td>\n",
       "      <td>153</td>\n",
       "      <td>10009</td>\n",
       "      <td>24</td>\n",
       "      <td>24</td>\n",
       "      <td>18523</td>\n",
       "      <td>1920</td>\n",
       "      <td>Low</td>\n",
       "      <td>D9</td>\n",
       "      <td>16232000</td>\n",
       "    </tr>\n",
       "  </tbody>\n",
       "</table>\n",
       "</div>"
      ],
      "text/plain": [
       "   BOROUGH  BLOCK  LOT  ZIP CODE  RESIDENTIAL UNITS  TOTAL UNITS  \\\n",
       "0        1    392    6     10009                  5            5   \n",
       "1        1    402   21     10009                 10           10   \n",
       "2        1    404   55     10009                  6            6   \n",
       "3        1    406   32     10009                  8            8   \n",
       "4        1    387  153     10009                 24           24   \n",
       "\n",
       "   GROSS SQUARE FEET  YEAR BUILT TAX CLASS AT TIME OF SALE  \\\n",
       "0               6440        1900                       Low   \n",
       "1               6794        1913                       Low   \n",
       "2               4615        1900                       Low   \n",
       "3               4226        1920                       Low   \n",
       "4              18523        1920                       Low   \n",
       "\n",
       "  BUILDING CLASS AT TIME OF SALE  SALE PRICE  \n",
       "0                             C2     6625000  \n",
       "1                             C4     3936272  \n",
       "2                             C2     8000000  \n",
       "3                             C4     3192840  \n",
       "4                             D9    16232000  "
      ]
     },
     "execution_count": 181,
     "metadata": {},
     "output_type": "execute_result"
    }
   ],
   "source": [
    "#Real Estate\n",
    "df = pd.read_csv(\"NYC_Real_Estate.csv\")\n",
    "df.head()\n"
   ]
  },
  {
   "cell_type": "code",
   "execution_count": 182,
   "metadata": {},
   "outputs": [
    {
     "data": {
      "text/html": [
       "<div>\n",
       "<style scoped>\n",
       "    .dataframe tbody tr th:only-of-type {\n",
       "        vertical-align: middle;\n",
       "    }\n",
       "\n",
       "    .dataframe tbody tr th {\n",
       "        vertical-align: top;\n",
       "    }\n",
       "\n",
       "    .dataframe thead th {\n",
       "        text-align: right;\n",
       "    }\n",
       "</style>\n",
       "<table border=\"1\" class=\"dataframe\">\n",
       "  <thead>\n",
       "    <tr style=\"text-align: right;\">\n",
       "      <th></th>\n",
       "      <th>BOROUGH</th>\n",
       "      <th>BLOCK</th>\n",
       "      <th>LOT</th>\n",
       "      <th>ZIP CODE</th>\n",
       "      <th>RESIDENTIAL UNITS</th>\n",
       "      <th>TOTAL UNITS</th>\n",
       "      <th>GROSS SQUARE FEET</th>\n",
       "      <th>YEAR BUILT</th>\n",
       "      <th>TAX CLASS AT TIME OF SALE</th>\n",
       "      <th>BUILDING CLASS AT TIME OF SALE</th>\n",
       "      <th>SALE PRICE</th>\n",
       "    </tr>\n",
       "  </thead>\n",
       "  <tbody>\n",
       "    <tr>\n",
       "      <th>48243</th>\n",
       "      <td>5</td>\n",
       "      <td>7349</td>\n",
       "      <td>34</td>\n",
       "      <td>10309</td>\n",
       "      <td>2</td>\n",
       "      <td>2</td>\n",
       "      <td>2575</td>\n",
       "      <td>1998</td>\n",
       "      <td>Low</td>\n",
       "      <td>B9</td>\n",
       "      <td>450000</td>\n",
       "    </tr>\n",
       "    <tr>\n",
       "      <th>48244</th>\n",
       "      <td>5</td>\n",
       "      <td>7349</td>\n",
       "      <td>78</td>\n",
       "      <td>10309</td>\n",
       "      <td>2</td>\n",
       "      <td>2</td>\n",
       "      <td>2377</td>\n",
       "      <td>1998</td>\n",
       "      <td>Low</td>\n",
       "      <td>B9</td>\n",
       "      <td>550000</td>\n",
       "    </tr>\n",
       "    <tr>\n",
       "      <th>48245</th>\n",
       "      <td>5</td>\n",
       "      <td>7351</td>\n",
       "      <td>60</td>\n",
       "      <td>10309</td>\n",
       "      <td>2</td>\n",
       "      <td>2</td>\n",
       "      <td>1496</td>\n",
       "      <td>1925</td>\n",
       "      <td>Low</td>\n",
       "      <td>B2</td>\n",
       "      <td>460000</td>\n",
       "    </tr>\n",
       "    <tr>\n",
       "      <th>48246</th>\n",
       "      <td>5</td>\n",
       "      <td>7100</td>\n",
       "      <td>28</td>\n",
       "      <td>10309</td>\n",
       "      <td>0</td>\n",
       "      <td>7</td>\n",
       "      <td>64117</td>\n",
       "      <td>2001</td>\n",
       "      <td>High</td>\n",
       "      <td>K6</td>\n",
       "      <td>11693337</td>\n",
       "    </tr>\n",
       "    <tr>\n",
       "      <th>48247</th>\n",
       "      <td>5</td>\n",
       "      <td>7105</td>\n",
       "      <td>679</td>\n",
       "      <td>10309</td>\n",
       "      <td>0</td>\n",
       "      <td>1</td>\n",
       "      <td>2400</td>\n",
       "      <td>2006</td>\n",
       "      <td>High</td>\n",
       "      <td>P9</td>\n",
       "      <td>69300</td>\n",
       "    </tr>\n",
       "  </tbody>\n",
       "</table>\n",
       "</div>"
      ],
      "text/plain": [
       "       BOROUGH  BLOCK  LOT  ZIP CODE  RESIDENTIAL UNITS  TOTAL UNITS  \\\n",
       "48243        5   7349   34     10309                  2            2   \n",
       "48244        5   7349   78     10309                  2            2   \n",
       "48245        5   7351   60     10309                  2            2   \n",
       "48246        5   7100   28     10309                  0            7   \n",
       "48247        5   7105  679     10309                  0            1   \n",
       "\n",
       "       GROSS SQUARE FEET  YEAR BUILT TAX CLASS AT TIME OF SALE  \\\n",
       "48243               2575        1998                       Low   \n",
       "48244               2377        1998                       Low   \n",
       "48245               1496        1925                       Low   \n",
       "48246              64117        2001                      High   \n",
       "48247               2400        2006                      High   \n",
       "\n",
       "      BUILDING CLASS AT TIME OF SALE  SALE PRICE  \n",
       "48243                             B9      450000  \n",
       "48244                             B9      550000  \n",
       "48245                             B2      460000  \n",
       "48246                             K6    11693337  \n",
       "48247                             P9       69300  "
      ]
     },
     "execution_count": 182,
     "metadata": {},
     "output_type": "execute_result"
    }
   ],
   "source": [
    "df.tail()"
   ]
  },
  {
   "cell_type": "code",
   "execution_count": 183,
   "metadata": {},
   "outputs": [
    {
     "data": {
      "text/plain": [
       "(48248, 11)"
      ]
     },
     "execution_count": 183,
     "metadata": {},
     "output_type": "execute_result"
    }
   ],
   "source": [
    "#checking the shape of the table\n",
    "df.shape"
   ]
  },
  {
   "cell_type": "code",
   "execution_count": 184,
   "metadata": {},
   "outputs": [
    {
     "data": {
      "text/plain": [
       "0"
      ]
     },
     "execution_count": 184,
     "metadata": {},
     "output_type": "execute_result"
    }
   ],
   "source": [
    "# checking to see the total count of missing values, if any\n",
    "df.isnull().sum().sum()"
   ]
  },
  {
   "cell_type": "code",
   "execution_count": 82,
   "metadata": {},
   "outputs": [
    {
     "data": {
      "text/plain": [
       "BOROUGH                            int64\n",
       "BLOCK                              int64\n",
       "LOT                                int64\n",
       "ZIP CODE                           int64\n",
       "RESIDENTIAL UNITS                  int64\n",
       "TOTAL UNITS                        int64\n",
       "GROSS SQUARE FEET                  int64\n",
       "YEAR BUILT                         int64\n",
       "TAX CLASS AT TIME OF SALE         object\n",
       "BUILDING CLASS AT TIME OF SALE    object\n",
       "SALE PRICE                         int64\n",
       "dtype: object"
      ]
     },
     "execution_count": 82,
     "metadata": {},
     "output_type": "execute_result"
    }
   ],
   "source": [
    "df.dtypes"
   ]
  },
  {
   "cell_type": "code",
   "execution_count": 185,
   "metadata": {},
   "outputs": [
    {
     "data": {
      "text/html": [
       "<div>\n",
       "<style scoped>\n",
       "    .dataframe tbody tr th:only-of-type {\n",
       "        vertical-align: middle;\n",
       "    }\n",
       "\n",
       "    .dataframe tbody tr th {\n",
       "        vertical-align: top;\n",
       "    }\n",
       "\n",
       "    .dataframe thead th {\n",
       "        text-align: right;\n",
       "    }\n",
       "</style>\n",
       "<table border=\"1\" class=\"dataframe\">\n",
       "  <thead>\n",
       "    <tr style=\"text-align: right;\">\n",
       "      <th></th>\n",
       "      <th>BOROUGH</th>\n",
       "      <th>BLOCK</th>\n",
       "      <th>LOT</th>\n",
       "      <th>ZIP CODE</th>\n",
       "      <th>RESIDENTIAL UNITS</th>\n",
       "      <th>TOTAL UNITS</th>\n",
       "      <th>GROSS SQUARE FEET</th>\n",
       "      <th>YEAR BUILT</th>\n",
       "      <th>TAX CLASS AT TIME OF SALE</th>\n",
       "      <th>BUILDING CLASS AT TIME OF SALE</th>\n",
       "      <th>SALE PRICE</th>\n",
       "    </tr>\n",
       "  </thead>\n",
       "  <tbody>\n",
       "    <tr>\n",
       "      <th>0</th>\n",
       "      <td>1</td>\n",
       "      <td>392</td>\n",
       "      <td>6</td>\n",
       "      <td>10009</td>\n",
       "      <td>5</td>\n",
       "      <td>5</td>\n",
       "      <td>6440</td>\n",
       "      <td>1900</td>\n",
       "      <td>Low</td>\n",
       "      <td>C2</td>\n",
       "      <td>6625000</td>\n",
       "    </tr>\n",
       "    <tr>\n",
       "      <th>1</th>\n",
       "      <td>1</td>\n",
       "      <td>402</td>\n",
       "      <td>21</td>\n",
       "      <td>10009</td>\n",
       "      <td>10</td>\n",
       "      <td>10</td>\n",
       "      <td>6794</td>\n",
       "      <td>1913</td>\n",
       "      <td>Low</td>\n",
       "      <td>C4</td>\n",
       "      <td>3936272</td>\n",
       "    </tr>\n",
       "    <tr>\n",
       "      <th>2</th>\n",
       "      <td>1</td>\n",
       "      <td>404</td>\n",
       "      <td>55</td>\n",
       "      <td>10009</td>\n",
       "      <td>6</td>\n",
       "      <td>6</td>\n",
       "      <td>4615</td>\n",
       "      <td>1900</td>\n",
       "      <td>Low</td>\n",
       "      <td>C2</td>\n",
       "      <td>8000000</td>\n",
       "    </tr>\n",
       "    <tr>\n",
       "      <th>3</th>\n",
       "      <td>1</td>\n",
       "      <td>406</td>\n",
       "      <td>32</td>\n",
       "      <td>10009</td>\n",
       "      <td>8</td>\n",
       "      <td>8</td>\n",
       "      <td>4226</td>\n",
       "      <td>1920</td>\n",
       "      <td>Low</td>\n",
       "      <td>C4</td>\n",
       "      <td>3192840</td>\n",
       "    </tr>\n",
       "    <tr>\n",
       "      <th>4</th>\n",
       "      <td>1</td>\n",
       "      <td>387</td>\n",
       "      <td>153</td>\n",
       "      <td>10009</td>\n",
       "      <td>24</td>\n",
       "      <td>24</td>\n",
       "      <td>18523</td>\n",
       "      <td>1920</td>\n",
       "      <td>Low</td>\n",
       "      <td>D9</td>\n",
       "      <td>16232000</td>\n",
       "    </tr>\n",
       "  </tbody>\n",
       "</table>\n",
       "</div>"
      ],
      "text/plain": [
       "   BOROUGH  BLOCK  LOT  ZIP CODE  RESIDENTIAL UNITS  TOTAL UNITS  \\\n",
       "0        1    392    6     10009                  5            5   \n",
       "1        1    402   21     10009                 10           10   \n",
       "2        1    404   55     10009                  6            6   \n",
       "3        1    406   32     10009                  8            8   \n",
       "4        1    387  153     10009                 24           24   \n",
       "\n",
       "   GROSS SQUARE FEET  YEAR BUILT TAX CLASS AT TIME OF SALE  \\\n",
       "0               6440        1900                       Low   \n",
       "1               6794        1913                       Low   \n",
       "2               4615        1900                       Low   \n",
       "3               4226        1920                       Low   \n",
       "4              18523        1920                       Low   \n",
       "\n",
       "  BUILDING CLASS AT TIME OF SALE  SALE PRICE  \n",
       "0                             C2     6625000  \n",
       "1                             C4     3936272  \n",
       "2                             C2     8000000  \n",
       "3                             C4     3192840  \n",
       "4                             D9    16232000  "
      ]
     },
     "execution_count": 185,
     "metadata": {},
     "output_type": "execute_result"
    }
   ],
   "source": [
    "df.head()"
   ]
  },
  {
   "cell_type": "code",
   "execution_count": 187,
   "metadata": {},
   "outputs": [
    {
     "data": {
      "text/html": [
       "<div>\n",
       "<style scoped>\n",
       "    .dataframe tbody tr th:only-of-type {\n",
       "        vertical-align: middle;\n",
       "    }\n",
       "\n",
       "    .dataframe tbody tr th {\n",
       "        vertical-align: top;\n",
       "    }\n",
       "\n",
       "    .dataframe thead th {\n",
       "        text-align: right;\n",
       "    }\n",
       "</style>\n",
       "<table border=\"1\" class=\"dataframe\">\n",
       "  <thead>\n",
       "    <tr style=\"text-align: right;\">\n",
       "      <th></th>\n",
       "      <th>RESIDENTIAL UNITS</th>\n",
       "      <th>TOTAL UNITS</th>\n",
       "      <th>GROSS SQUARE FEET</th>\n",
       "      <th>SALE PRICE</th>\n",
       "      <th>BuildingInfo</th>\n",
       "    </tr>\n",
       "  </thead>\n",
       "  <tbody>\n",
       "    <tr>\n",
       "      <th>0</th>\n",
       "      <td>5</td>\n",
       "      <td>5</td>\n",
       "      <td>6440</td>\n",
       "      <td>6625000</td>\n",
       "      <td>1-392-6-1900-C2</td>\n",
       "    </tr>\n",
       "    <tr>\n",
       "      <th>1</th>\n",
       "      <td>10</td>\n",
       "      <td>10</td>\n",
       "      <td>6794</td>\n",
       "      <td>3936272</td>\n",
       "      <td>1-402-21-1913-C4</td>\n",
       "    </tr>\n",
       "    <tr>\n",
       "      <th>2</th>\n",
       "      <td>6</td>\n",
       "      <td>6</td>\n",
       "      <td>4615</td>\n",
       "      <td>8000000</td>\n",
       "      <td>1-404-55-1900-C2</td>\n",
       "    </tr>\n",
       "    <tr>\n",
       "      <th>3</th>\n",
       "      <td>8</td>\n",
       "      <td>8</td>\n",
       "      <td>4226</td>\n",
       "      <td>3192840</td>\n",
       "      <td>1-406-32-1920-C4</td>\n",
       "    </tr>\n",
       "    <tr>\n",
       "      <th>4</th>\n",
       "      <td>24</td>\n",
       "      <td>24</td>\n",
       "      <td>18523</td>\n",
       "      <td>16232000</td>\n",
       "      <td>1-387-153-1920-D9</td>\n",
       "    </tr>\n",
       "  </tbody>\n",
       "</table>\n",
       "</div>"
      ],
      "text/plain": [
       "   RESIDENTIAL UNITS  TOTAL UNITS  GROSS SQUARE FEET  SALE PRICE  \\\n",
       "0                  5            5               6440     6625000   \n",
       "1                 10           10               6794     3936272   \n",
       "2                  6            6               4615     8000000   \n",
       "3                  8            8               4226     3192840   \n",
       "4                 24           24              18523    16232000   \n",
       "\n",
       "        BuildingInfo  \n",
       "0    1-392-6-1900-C2  \n",
       "1   1-402-21-1913-C4  \n",
       "2   1-404-55-1900-C2  \n",
       "3   1-406-32-1920-C4  \n",
       "4  1-387-153-1920-D9  "
      ]
     },
     "execution_count": 187,
     "metadata": {},
     "output_type": "execute_result"
    }
   ],
   "source": [
    "#Join buiding information into one column by 'Borough'-'Block'-'Lot'-'Year Built', 'BuildingClass At Time of Sale'\n",
    "df['BuildingInfo']=df['BOROUGH'].map(str)+'-'+df['BLOCK'].map(str)+'-'+df['LOT'].map(str)+'-'+df['YEAR BUILT'].map(str)+'-'+df['BUILDING CLASS AT TIME OF SALE'].map(str)\n",
    "df.drop('BOROUGH', axis=1, inplace=True)\n",
    "df.drop('BLOCK', axis=1, inplace=True)\n",
    "df.drop('LOT', axis=1, inplace=True)\n",
    "df.drop('ZIP CODE', axis=1, inplace=True)\n",
    "df.drop('YEAR BUILT', axis=1, inplace=True)\n",
    "df.drop('TAX CLASS AT TIME OF SALE', axis=1, inplace=True)\n",
    "df.drop('BUILDING CLASS AT TIME OF SALE', axis=1, inplace=True)\n",
    "df.head()"
   ]
  },
  {
   "cell_type": "code",
   "execution_count": 189,
   "metadata": {},
   "outputs": [
    {
     "data": {
      "text/html": [
       "<div>\n",
       "<style scoped>\n",
       "    .dataframe tbody tr th:only-of-type {\n",
       "        vertical-align: middle;\n",
       "    }\n",
       "\n",
       "    .dataframe tbody tr th {\n",
       "        vertical-align: top;\n",
       "    }\n",
       "\n",
       "    .dataframe thead th {\n",
       "        text-align: right;\n",
       "    }\n",
       "</style>\n",
       "<table border=\"1\" class=\"dataframe\">\n",
       "  <thead>\n",
       "    <tr style=\"text-align: right;\">\n",
       "      <th></th>\n",
       "      <th>RESIDENTIAL UNITS</th>\n",
       "      <th>TOTAL UNITS</th>\n",
       "      <th>GROSS SQUARE FEET</th>\n",
       "      <th>SALE PRICE</th>\n",
       "      <th>BuildingInfo</th>\n",
       "    </tr>\n",
       "  </thead>\n",
       "  <tbody>\n",
       "    <tr>\n",
       "      <th>0</th>\n",
       "      <td>5</td>\n",
       "      <td>5</td>\n",
       "      <td>6440</td>\n",
       "      <td>6625000</td>\n",
       "      <td>1-392-6-1900-C2</td>\n",
       "    </tr>\n",
       "    <tr>\n",
       "      <th>1</th>\n",
       "      <td>10</td>\n",
       "      <td>10</td>\n",
       "      <td>6794</td>\n",
       "      <td>3936272</td>\n",
       "      <td>1-402-21-1913-C4</td>\n",
       "    </tr>\n",
       "    <tr>\n",
       "      <th>2</th>\n",
       "      <td>6</td>\n",
       "      <td>6</td>\n",
       "      <td>4615</td>\n",
       "      <td>8000000</td>\n",
       "      <td>1-404-55-1900-C2</td>\n",
       "    </tr>\n",
       "    <tr>\n",
       "      <th>3</th>\n",
       "      <td>8</td>\n",
       "      <td>8</td>\n",
       "      <td>4226</td>\n",
       "      <td>3192840</td>\n",
       "      <td>1-406-32-1920-C4</td>\n",
       "    </tr>\n",
       "    <tr>\n",
       "      <th>4</th>\n",
       "      <td>24</td>\n",
       "      <td>24</td>\n",
       "      <td>18523</td>\n",
       "      <td>16232000</td>\n",
       "      <td>1-387-153-1920-D9</td>\n",
       "    </tr>\n",
       "  </tbody>\n",
       "</table>\n",
       "</div>"
      ],
      "text/plain": [
       "   RESIDENTIAL UNITS  TOTAL UNITS  GROSS SQUARE FEET  SALE PRICE  \\\n",
       "0                  5            5               6440     6625000   \n",
       "1                 10           10               6794     3936272   \n",
       "2                  6            6               4615     8000000   \n",
       "3                  8            8               4226     3192840   \n",
       "4                 24           24              18523    16232000   \n",
       "\n",
       "        BuildingInfo  \n",
       "0    1-392-6-1900-C2  \n",
       "1   1-402-21-1913-C4  \n",
       "2   1-404-55-1900-C2  \n",
       "3   1-406-32-1920-C4  \n",
       "4  1-387-153-1920-D9  "
      ]
     },
     "execution_count": 189,
     "metadata": {},
     "output_type": "execute_result"
    }
   ],
   "source": [
    "df.head(5)"
   ]
  },
  {
   "cell_type": "code",
   "execution_count": 190,
   "metadata": {},
   "outputs": [],
   "source": [
    "from sklearn import linear_model\n",
    "from sklearn import preprocessing\n",
    "label_encoder=preprocessing.LabelEncoder()\n",
    "encod_BuildingInfo=label_encoder.fit_transform(df['BuildingInfo'])"
   ]
  },
  {
   "cell_type": "code",
   "execution_count": 192,
   "metadata": {},
   "outputs": [
    {
     "data": {
      "text/html": [
       "<div>\n",
       "<style scoped>\n",
       "    .dataframe tbody tr th:only-of-type {\n",
       "        vertical-align: middle;\n",
       "    }\n",
       "\n",
       "    .dataframe tbody tr th {\n",
       "        vertical-align: top;\n",
       "    }\n",
       "\n",
       "    .dataframe thead th {\n",
       "        text-align: right;\n",
       "    }\n",
       "</style>\n",
       "<table border=\"1\" class=\"dataframe\">\n",
       "  <thead>\n",
       "    <tr style=\"text-align: right;\">\n",
       "      <th></th>\n",
       "      <th>RESIDENTIAL UNITS</th>\n",
       "      <th>TOTAL UNITS</th>\n",
       "      <th>GROSS SQUARE FEET</th>\n",
       "      <th>SALE PRICE</th>\n",
       "    </tr>\n",
       "  </thead>\n",
       "  <tbody>\n",
       "    <tr>\n",
       "      <th>count</th>\n",
       "      <td>48248.000000</td>\n",
       "      <td>48248.000000</td>\n",
       "      <td>4.824800e+04</td>\n",
       "      <td>4.824800e+04</td>\n",
       "    </tr>\n",
       "    <tr>\n",
       "      <th>mean</th>\n",
       "      <td>2.569682</td>\n",
       "      <td>2.837755</td>\n",
       "      <td>3.672552e+03</td>\n",
       "      <td>1.155576e+06</td>\n",
       "    </tr>\n",
       "    <tr>\n",
       "      <th>std</th>\n",
       "      <td>17.468624</td>\n",
       "      <td>20.752771</td>\n",
       "      <td>2.947540e+04</td>\n",
       "      <td>1.340423e+07</td>\n",
       "    </tr>\n",
       "    <tr>\n",
       "      <th>min</th>\n",
       "      <td>0.000000</td>\n",
       "      <td>0.000000</td>\n",
       "      <td>0.000000e+00</td>\n",
       "      <td>0.000000e+00</td>\n",
       "    </tr>\n",
       "    <tr>\n",
       "      <th>25%</th>\n",
       "      <td>1.000000</td>\n",
       "      <td>1.000000</td>\n",
       "      <td>8.280000e+02</td>\n",
       "      <td>8.056000e+04</td>\n",
       "    </tr>\n",
       "    <tr>\n",
       "      <th>50%</th>\n",
       "      <td>1.000000</td>\n",
       "      <td>1.000000</td>\n",
       "      <td>1.620000e+03</td>\n",
       "      <td>4.800000e+05</td>\n",
       "    </tr>\n",
       "    <tr>\n",
       "      <th>75%</th>\n",
       "      <td>2.000000</td>\n",
       "      <td>2.000000</td>\n",
       "      <td>2.520000e+03</td>\n",
       "      <td>8.300000e+05</td>\n",
       "    </tr>\n",
       "    <tr>\n",
       "      <th>max</th>\n",
       "      <td>1844.000000</td>\n",
       "      <td>2261.000000</td>\n",
       "      <td>3.750565e+06</td>\n",
       "      <td>2.210000e+09</td>\n",
       "    </tr>\n",
       "  </tbody>\n",
       "</table>\n",
       "</div>"
      ],
      "text/plain": [
       "       RESIDENTIAL UNITS   TOTAL UNITS  GROSS SQUARE FEET    SALE PRICE\n",
       "count       48248.000000  48248.000000       4.824800e+04  4.824800e+04\n",
       "mean            2.569682      2.837755       3.672552e+03  1.155576e+06\n",
       "std            17.468624     20.752771       2.947540e+04  1.340423e+07\n",
       "min             0.000000      0.000000       0.000000e+00  0.000000e+00\n",
       "25%             1.000000      1.000000       8.280000e+02  8.056000e+04\n",
       "50%             1.000000      1.000000       1.620000e+03  4.800000e+05\n",
       "75%             2.000000      2.000000       2.520000e+03  8.300000e+05\n",
       "max          1844.000000   2261.000000       3.750565e+06  2.210000e+09"
      ]
     },
     "execution_count": 192,
     "metadata": {},
     "output_type": "execute_result"
    }
   ],
   "source": [
    "df.describe()"
   ]
  },
  {
   "cell_type": "code",
   "execution_count": 193,
   "metadata": {},
   "outputs": [
    {
     "data": {
      "text/plain": [
       "34820"
      ]
     },
     "execution_count": 193,
     "metadata": {},
     "output_type": "execute_result"
    }
   ],
   "source": [
    "#Residential Units, Total Units, Gross Square Feet and Sale Price have a min of 0\n",
    "#Lets remove the rows with '0' values\n",
    "#Fist Calculate how many zeros do we have\n",
    "(df==0).sum().sum()"
   ]
  },
  {
   "cell_type": "code",
   "execution_count": 194,
   "metadata": {},
   "outputs": [],
   "source": [
    "#there are 3482 zeros in the data frame.\n",
    "#now lets remove all rows with zeros\n",
    "df=df[df['RESIDENTIAL UNITS'] !=0]"
   ]
  },
  {
   "cell_type": "code",
   "execution_count": 195,
   "metadata": {},
   "outputs": [
    {
     "data": {
      "text/plain": [
       "13197"
      ]
     },
     "execution_count": 195,
     "metadata": {},
     "output_type": "execute_result"
    }
   ],
   "source": [
    "(df==0).sum().sum()"
   ]
  },
  {
   "cell_type": "code",
   "execution_count": 196,
   "metadata": {},
   "outputs": [],
   "source": [
    "df=df[df['GROSS SQUARE FEET'] !=0]"
   ]
  },
  {
   "cell_type": "code",
   "execution_count": 197,
   "metadata": {},
   "outputs": [
    {
     "data": {
      "text/plain": [
       "6959"
      ]
     },
     "execution_count": 197,
     "metadata": {},
     "output_type": "execute_result"
    }
   ],
   "source": [
    "(df==0).sum().sum()"
   ]
  },
  {
   "cell_type": "code",
   "execution_count": 198,
   "metadata": {},
   "outputs": [],
   "source": [
    "df=df[df['SALE PRICE'] !=0]"
   ]
  },
  {
   "cell_type": "code",
   "execution_count": 199,
   "metadata": {},
   "outputs": [
    {
     "data": {
      "text/plain": [
       "0"
      ]
     },
     "execution_count": 199,
     "metadata": {},
     "output_type": "execute_result"
    }
   ],
   "source": [
    "(df==0).sum().sum()"
   ]
  },
  {
   "cell_type": "markdown",
   "metadata": {},
   "source": [
    "#Removed all rows with '0'"
   ]
  },
  {
   "cell_type": "code",
   "execution_count": 200,
   "metadata": {},
   "outputs": [
    {
     "data": {
      "text/plain": [
       "(28048, 5)"
      ]
     },
     "execution_count": 200,
     "metadata": {},
     "output_type": "execute_result"
    }
   ],
   "source": [
    "df.shape"
   ]
  },
  {
   "cell_type": "code",
   "execution_count": 201,
   "metadata": {},
   "outputs": [
    {
     "data": {
      "text/html": [
       "<div>\n",
       "<style scoped>\n",
       "    .dataframe tbody tr th:only-of-type {\n",
       "        vertical-align: middle;\n",
       "    }\n",
       "\n",
       "    .dataframe tbody tr th {\n",
       "        vertical-align: top;\n",
       "    }\n",
       "\n",
       "    .dataframe thead th {\n",
       "        text-align: right;\n",
       "    }\n",
       "</style>\n",
       "<table border=\"1\" class=\"dataframe\">\n",
       "  <thead>\n",
       "    <tr style=\"text-align: right;\">\n",
       "      <th></th>\n",
       "      <th>RESIDENTIAL UNITS</th>\n",
       "      <th>TOTAL UNITS</th>\n",
       "      <th>GROSS SQUARE FEET</th>\n",
       "      <th>SALE PRICE</th>\n",
       "      <th>BuildingInfo</th>\n",
       "    </tr>\n",
       "  </thead>\n",
       "  <tbody>\n",
       "    <tr>\n",
       "      <th>0</th>\n",
       "      <td>5</td>\n",
       "      <td>5</td>\n",
       "      <td>6440</td>\n",
       "      <td>6625000</td>\n",
       "      <td>1-392-6-1900-C2</td>\n",
       "    </tr>\n",
       "    <tr>\n",
       "      <th>1</th>\n",
       "      <td>10</td>\n",
       "      <td>10</td>\n",
       "      <td>6794</td>\n",
       "      <td>3936272</td>\n",
       "      <td>1-402-21-1913-C4</td>\n",
       "    </tr>\n",
       "    <tr>\n",
       "      <th>2</th>\n",
       "      <td>6</td>\n",
       "      <td>6</td>\n",
       "      <td>4615</td>\n",
       "      <td>8000000</td>\n",
       "      <td>1-404-55-1900-C2</td>\n",
       "    </tr>\n",
       "    <tr>\n",
       "      <th>3</th>\n",
       "      <td>8</td>\n",
       "      <td>8</td>\n",
       "      <td>4226</td>\n",
       "      <td>3192840</td>\n",
       "      <td>1-406-32-1920-C4</td>\n",
       "    </tr>\n",
       "    <tr>\n",
       "      <th>4</th>\n",
       "      <td>24</td>\n",
       "      <td>24</td>\n",
       "      <td>18523</td>\n",
       "      <td>16232000</td>\n",
       "      <td>1-387-153-1920-D9</td>\n",
       "    </tr>\n",
       "    <tr>\n",
       "      <th>5</th>\n",
       "      <td>10</td>\n",
       "      <td>10</td>\n",
       "      <td>12350</td>\n",
       "      <td>10350000</td>\n",
       "      <td>1-400-21-2009-D1</td>\n",
       "    </tr>\n",
       "    <tr>\n",
       "      <th>6</th>\n",
       "      <td>24</td>\n",
       "      <td>24</td>\n",
       "      <td>16776</td>\n",
       "      <td>11900000</td>\n",
       "      <td>1-376-14-1928-C6</td>\n",
       "    </tr>\n",
       "    <tr>\n",
       "      <th>7</th>\n",
       "      <td>47</td>\n",
       "      <td>47</td>\n",
       "      <td>36472</td>\n",
       "      <td>28000000</td>\n",
       "      <td>1-385-1102-2005-RR</td>\n",
       "    </tr>\n",
       "    <tr>\n",
       "      <th>8</th>\n",
       "      <td>3</td>\n",
       "      <td>4</td>\n",
       "      <td>3360</td>\n",
       "      <td>3300000</td>\n",
       "      <td>1-391-19-1910-S3</td>\n",
       "    </tr>\n",
       "    <tr>\n",
       "      <th>9</th>\n",
       "      <td>4</td>\n",
       "      <td>5</td>\n",
       "      <td>5608</td>\n",
       "      <td>7215000</td>\n",
       "      <td>1-393-4-1900-S4</td>\n",
       "    </tr>\n",
       "    <tr>\n",
       "      <th>10</th>\n",
       "      <td>5</td>\n",
       "      <td>6</td>\n",
       "      <td>3713</td>\n",
       "      <td>4750000</td>\n",
       "      <td>1-394-5-1910-S5</td>\n",
       "    </tr>\n",
       "    <tr>\n",
       "      <th>12</th>\n",
       "      <td>1</td>\n",
       "      <td>1</td>\n",
       "      <td>3855</td>\n",
       "      <td>7425000</td>\n",
       "      <td>1-771-52-1901-A9</td>\n",
       "    </tr>\n",
       "    <tr>\n",
       "      <th>13</th>\n",
       "      <td>1</td>\n",
       "      <td>1</td>\n",
       "      <td>5653</td>\n",
       "      <td>10</td>\n",
       "      <td>1-772-29-1900-A4</td>\n",
       "    </tr>\n",
       "    <tr>\n",
       "      <th>14</th>\n",
       "      <td>1</td>\n",
       "      <td>1</td>\n",
       "      <td>5653</td>\n",
       "      <td>10</td>\n",
       "      <td>1-772-29-1900-A4</td>\n",
       "    </tr>\n",
       "    <tr>\n",
       "      <th>15</th>\n",
       "      <td>1</td>\n",
       "      <td>1</td>\n",
       "      <td>5653</td>\n",
       "      <td>10</td>\n",
       "      <td>1-772-29-1900-A4</td>\n",
       "    </tr>\n",
       "    <tr>\n",
       "      <th>16</th>\n",
       "      <td>2</td>\n",
       "      <td>3</td>\n",
       "      <td>4978</td>\n",
       "      <td>7750000</td>\n",
       "      <td>1-769-49-1920-S2</td>\n",
       "    </tr>\n",
       "    <tr>\n",
       "      <th>17</th>\n",
       "      <td>3</td>\n",
       "      <td>3</td>\n",
       "      <td>3725</td>\n",
       "      <td>8300000</td>\n",
       "      <td>1-719-67-1901-C0</td>\n",
       "    </tr>\n",
       "    <tr>\n",
       "      <th>18</th>\n",
       "      <td>6</td>\n",
       "      <td>7</td>\n",
       "      <td>3762</td>\n",
       "      <td>16000000</td>\n",
       "      <td>1-696-37-1901-C4</td>\n",
       "    </tr>\n",
       "    <tr>\n",
       "      <th>19</th>\n",
       "      <td>4</td>\n",
       "      <td>4</td>\n",
       "      <td>2890</td>\n",
       "      <td>5950000</td>\n",
       "      <td>1-722-6-1910-C3</td>\n",
       "    </tr>\n",
       "    <tr>\n",
       "      <th>20</th>\n",
       "      <td>24</td>\n",
       "      <td>24</td>\n",
       "      <td>4500</td>\n",
       "      <td>7375000</td>\n",
       "      <td>1-743-56-1900-C5</td>\n",
       "    </tr>\n",
       "    <tr>\n",
       "      <th>21</th>\n",
       "      <td>4</td>\n",
       "      <td>4</td>\n",
       "      <td>3042</td>\n",
       "      <td>8000000</td>\n",
       "      <td>1-745-63-1900-C3</td>\n",
       "    </tr>\n",
       "    <tr>\n",
       "      <th>22</th>\n",
       "      <td>22</td>\n",
       "      <td>24</td>\n",
       "      <td>13056</td>\n",
       "      <td>14100000</td>\n",
       "      <td>1-764-68-1901-C4</td>\n",
       "    </tr>\n",
       "    <tr>\n",
       "      <th>23</th>\n",
       "      <td>9</td>\n",
       "      <td>9</td>\n",
       "      <td>6330</td>\n",
       "      <td>1583840</td>\n",
       "      <td>1-765-25-1901-C4</td>\n",
       "    </tr>\n",
       "    <tr>\n",
       "      <th>24</th>\n",
       "      <td>9</td>\n",
       "      <td>9</td>\n",
       "      <td>6330</td>\n",
       "      <td>416790</td>\n",
       "      <td>1-765-25-1901-C4</td>\n",
       "    </tr>\n",
       "    <tr>\n",
       "      <th>25</th>\n",
       "      <td>9</td>\n",
       "      <td>9</td>\n",
       "      <td>6330</td>\n",
       "      <td>630370</td>\n",
       "      <td>1-765-25-1901-C4</td>\n",
       "    </tr>\n",
       "  </tbody>\n",
       "</table>\n",
       "</div>"
      ],
      "text/plain": [
       "    RESIDENTIAL UNITS  TOTAL UNITS  GROSS SQUARE FEET  SALE PRICE  \\\n",
       "0                   5            5               6440     6625000   \n",
       "1                  10           10               6794     3936272   \n",
       "2                   6            6               4615     8000000   \n",
       "3                   8            8               4226     3192840   \n",
       "4                  24           24              18523    16232000   \n",
       "5                  10           10              12350    10350000   \n",
       "6                  24           24              16776    11900000   \n",
       "7                  47           47              36472    28000000   \n",
       "8                   3            4               3360     3300000   \n",
       "9                   4            5               5608     7215000   \n",
       "10                  5            6               3713     4750000   \n",
       "12                  1            1               3855     7425000   \n",
       "13                  1            1               5653          10   \n",
       "14                  1            1               5653          10   \n",
       "15                  1            1               5653          10   \n",
       "16                  2            3               4978     7750000   \n",
       "17                  3            3               3725     8300000   \n",
       "18                  6            7               3762    16000000   \n",
       "19                  4            4               2890     5950000   \n",
       "20                 24           24               4500     7375000   \n",
       "21                  4            4               3042     8000000   \n",
       "22                 22           24              13056    14100000   \n",
       "23                  9            9               6330     1583840   \n",
       "24                  9            9               6330      416790   \n",
       "25                  9            9               6330      630370   \n",
       "\n",
       "          BuildingInfo  \n",
       "0      1-392-6-1900-C2  \n",
       "1     1-402-21-1913-C4  \n",
       "2     1-404-55-1900-C2  \n",
       "3     1-406-32-1920-C4  \n",
       "4    1-387-153-1920-D9  \n",
       "5     1-400-21-2009-D1  \n",
       "6     1-376-14-1928-C6  \n",
       "7   1-385-1102-2005-RR  \n",
       "8     1-391-19-1910-S3  \n",
       "9      1-393-4-1900-S4  \n",
       "10     1-394-5-1910-S5  \n",
       "12    1-771-52-1901-A9  \n",
       "13    1-772-29-1900-A4  \n",
       "14    1-772-29-1900-A4  \n",
       "15    1-772-29-1900-A4  \n",
       "16    1-769-49-1920-S2  \n",
       "17    1-719-67-1901-C0  \n",
       "18    1-696-37-1901-C4  \n",
       "19     1-722-6-1910-C3  \n",
       "20    1-743-56-1900-C5  \n",
       "21    1-745-63-1900-C3  \n",
       "22    1-764-68-1901-C4  \n",
       "23    1-765-25-1901-C4  \n",
       "24    1-765-25-1901-C4  \n",
       "25    1-765-25-1901-C4  "
      ]
     },
     "execution_count": 201,
     "metadata": {},
     "output_type": "execute_result"
    }
   ],
   "source": [
    "df.head(25)"
   ]
  },
  {
   "cell_type": "code",
   "execution_count": 202,
   "metadata": {},
   "outputs": [
    {
     "data": {
      "text/plain": [
       "RESIDENTIAL UNITS    854\n",
       "TOTAL UNITS          854\n",
       "GROSS SQUARE FEET    854\n",
       "SALE PRICE           854\n",
       "BuildingInfo         854\n",
       "dtype: int64"
      ]
     },
     "execution_count": 202,
     "metadata": {},
     "output_type": "execute_result"
    }
   ],
   "source": [
    "# seeing values of 10 in the SALE Price column. Investigate:\n",
    "# #using the threshold, how many values less than 1000 in dataframe?\n",
    "df[df['SALE PRICE']<10000].count()"
   ]
  },
  {
   "cell_type": "code",
   "execution_count": 204,
   "metadata": {},
   "outputs": [],
   "source": [
    "# There are 752 instances where the Sale Price is less than $1000; We need to get rid of these rows as these seem to be 'hand me down' estates\n",
    "df_filt=df[df['SALE PRICE']>10000]"
   ]
  },
  {
   "cell_type": "code",
   "execution_count": 205,
   "metadata": {},
   "outputs": [
    {
     "data": {
      "text/html": [
       "<div>\n",
       "<style scoped>\n",
       "    .dataframe tbody tr th:only-of-type {\n",
       "        vertical-align: middle;\n",
       "    }\n",
       "\n",
       "    .dataframe tbody tr th {\n",
       "        vertical-align: top;\n",
       "    }\n",
       "\n",
       "    .dataframe thead th {\n",
       "        text-align: right;\n",
       "    }\n",
       "</style>\n",
       "<table border=\"1\" class=\"dataframe\">\n",
       "  <thead>\n",
       "    <tr style=\"text-align: right;\">\n",
       "      <th></th>\n",
       "      <th>RESIDENTIAL UNITS</th>\n",
       "      <th>TOTAL UNITS</th>\n",
       "      <th>GROSS SQUARE FEET</th>\n",
       "      <th>SALE PRICE</th>\n",
       "      <th>BuildingInfo</th>\n",
       "    </tr>\n",
       "  </thead>\n",
       "  <tbody>\n",
       "    <tr>\n",
       "      <th>0</th>\n",
       "      <td>5</td>\n",
       "      <td>5</td>\n",
       "      <td>6440</td>\n",
       "      <td>6625000</td>\n",
       "      <td>1-392-6-1900-C2</td>\n",
       "    </tr>\n",
       "    <tr>\n",
       "      <th>1</th>\n",
       "      <td>10</td>\n",
       "      <td>10</td>\n",
       "      <td>6794</td>\n",
       "      <td>3936272</td>\n",
       "      <td>1-402-21-1913-C4</td>\n",
       "    </tr>\n",
       "    <tr>\n",
       "      <th>2</th>\n",
       "      <td>6</td>\n",
       "      <td>6</td>\n",
       "      <td>4615</td>\n",
       "      <td>8000000</td>\n",
       "      <td>1-404-55-1900-C2</td>\n",
       "    </tr>\n",
       "    <tr>\n",
       "      <th>3</th>\n",
       "      <td>8</td>\n",
       "      <td>8</td>\n",
       "      <td>4226</td>\n",
       "      <td>3192840</td>\n",
       "      <td>1-406-32-1920-C4</td>\n",
       "    </tr>\n",
       "    <tr>\n",
       "      <th>4</th>\n",
       "      <td>24</td>\n",
       "      <td>24</td>\n",
       "      <td>18523</td>\n",
       "      <td>16232000</td>\n",
       "      <td>1-387-153-1920-D9</td>\n",
       "    </tr>\n",
       "  </tbody>\n",
       "</table>\n",
       "</div>"
      ],
      "text/plain": [
       "   RESIDENTIAL UNITS  TOTAL UNITS  GROSS SQUARE FEET  SALE PRICE  \\\n",
       "0                  5            5               6440     6625000   \n",
       "1                 10           10               6794     3936272   \n",
       "2                  6            6               4615     8000000   \n",
       "3                  8            8               4226     3192840   \n",
       "4                 24           24              18523    16232000   \n",
       "\n",
       "        BuildingInfo  \n",
       "0    1-392-6-1900-C2  \n",
       "1   1-402-21-1913-C4  \n",
       "2   1-404-55-1900-C2  \n",
       "3   1-406-32-1920-C4  \n",
       "4  1-387-153-1920-D9  "
      ]
     },
     "execution_count": 205,
     "metadata": {},
     "output_type": "execute_result"
    }
   ],
   "source": [
    "df_filt.head()"
   ]
  },
  {
   "cell_type": "code",
   "execution_count": 206,
   "metadata": {},
   "outputs": [
    {
     "data": {
      "text/html": [
       "<div>\n",
       "<style scoped>\n",
       "    .dataframe tbody tr th:only-of-type {\n",
       "        vertical-align: middle;\n",
       "    }\n",
       "\n",
       "    .dataframe tbody tr th {\n",
       "        vertical-align: top;\n",
       "    }\n",
       "\n",
       "    .dataframe thead th {\n",
       "        text-align: right;\n",
       "    }\n",
       "</style>\n",
       "<table border=\"1\" class=\"dataframe\">\n",
       "  <thead>\n",
       "    <tr style=\"text-align: right;\">\n",
       "      <th></th>\n",
       "      <th>RESIDENTIAL UNITS</th>\n",
       "      <th>TOTAL UNITS</th>\n",
       "      <th>GROSS SQUARE FEET</th>\n",
       "      <th>SALE PRICE</th>\n",
       "      <th>BuildingInfo</th>\n",
       "    </tr>\n",
       "  </thead>\n",
       "  <tbody>\n",
       "    <tr>\n",
       "      <th>48241</th>\n",
       "      <td>2</td>\n",
       "      <td>2</td>\n",
       "      <td>1300</td>\n",
       "      <td>509000</td>\n",
       "      <td>5-7316-93-1995-B2</td>\n",
       "    </tr>\n",
       "    <tr>\n",
       "      <th>48242</th>\n",
       "      <td>2</td>\n",
       "      <td>2</td>\n",
       "      <td>2160</td>\n",
       "      <td>648000</td>\n",
       "      <td>5-7317-126-1994-B2</td>\n",
       "    </tr>\n",
       "    <tr>\n",
       "      <th>48243</th>\n",
       "      <td>2</td>\n",
       "      <td>2</td>\n",
       "      <td>2575</td>\n",
       "      <td>450000</td>\n",
       "      <td>5-7349-34-1998-B9</td>\n",
       "    </tr>\n",
       "    <tr>\n",
       "      <th>48244</th>\n",
       "      <td>2</td>\n",
       "      <td>2</td>\n",
       "      <td>2377</td>\n",
       "      <td>550000</td>\n",
       "      <td>5-7349-78-1998-B9</td>\n",
       "    </tr>\n",
       "    <tr>\n",
       "      <th>48245</th>\n",
       "      <td>2</td>\n",
       "      <td>2</td>\n",
       "      <td>1496</td>\n",
       "      <td>460000</td>\n",
       "      <td>5-7351-60-1925-B2</td>\n",
       "    </tr>\n",
       "  </tbody>\n",
       "</table>\n",
       "</div>"
      ],
      "text/plain": [
       "       RESIDENTIAL UNITS  TOTAL UNITS  GROSS SQUARE FEET  SALE PRICE  \\\n",
       "48241                  2            2               1300      509000   \n",
       "48242                  2            2               2160      648000   \n",
       "48243                  2            2               2575      450000   \n",
       "48244                  2            2               2377      550000   \n",
       "48245                  2            2               1496      460000   \n",
       "\n",
       "             BuildingInfo  \n",
       "48241   5-7316-93-1995-B2  \n",
       "48242  5-7317-126-1994-B2  \n",
       "48243   5-7349-34-1998-B9  \n",
       "48244   5-7349-78-1998-B9  \n",
       "48245   5-7351-60-1925-B2  "
      ]
     },
     "execution_count": 206,
     "metadata": {},
     "output_type": "execute_result"
    }
   ],
   "source": [
    "df_filt.tail()"
   ]
  },
  {
   "cell_type": "code",
   "execution_count": 207,
   "metadata": {},
   "outputs": [
    {
     "name": "stderr",
     "output_type": "stream",
     "text": [
      "C:\\Users\\Inspiron2021\\anaconda3\\lib\\site-packages\\pandas\\core\\frame.py:4906: SettingWithCopyWarning: \n",
      "A value is trying to be set on a copy of a slice from a DataFrame\n",
      "\n",
      "See the caveats in the documentation: https://pandas.pydata.org/pandas-docs/stable/user_guide/indexing.html#returning-a-view-versus-a-copy\n",
      "  return super().drop(\n"
     ]
    }
   ],
   "source": [
    "df_filt.drop('RESIDENTIAL UNITS', axis=1, inplace=True)"
   ]
  },
  {
   "cell_type": "code",
   "execution_count": 208,
   "metadata": {},
   "outputs": [
    {
     "data": {
      "text/html": [
       "<div>\n",
       "<style scoped>\n",
       "    .dataframe tbody tr th:only-of-type {\n",
       "        vertical-align: middle;\n",
       "    }\n",
       "\n",
       "    .dataframe tbody tr th {\n",
       "        vertical-align: top;\n",
       "    }\n",
       "\n",
       "    .dataframe thead th {\n",
       "        text-align: right;\n",
       "    }\n",
       "</style>\n",
       "<table border=\"1\" class=\"dataframe\">\n",
       "  <thead>\n",
       "    <tr style=\"text-align: right;\">\n",
       "      <th></th>\n",
       "      <th>TOTAL UNITS</th>\n",
       "      <th>GROSS SQUARE FEET</th>\n",
       "      <th>SALE PRICE</th>\n",
       "      <th>BuildingInfo</th>\n",
       "    </tr>\n",
       "  </thead>\n",
       "  <tbody>\n",
       "    <tr>\n",
       "      <th>0</th>\n",
       "      <td>5</td>\n",
       "      <td>6440</td>\n",
       "      <td>6625000</td>\n",
       "      <td>1-392-6-1900-C2</td>\n",
       "    </tr>\n",
       "    <tr>\n",
       "      <th>1</th>\n",
       "      <td>10</td>\n",
       "      <td>6794</td>\n",
       "      <td>3936272</td>\n",
       "      <td>1-402-21-1913-C4</td>\n",
       "    </tr>\n",
       "    <tr>\n",
       "      <th>2</th>\n",
       "      <td>6</td>\n",
       "      <td>4615</td>\n",
       "      <td>8000000</td>\n",
       "      <td>1-404-55-1900-C2</td>\n",
       "    </tr>\n",
       "    <tr>\n",
       "      <th>3</th>\n",
       "      <td>8</td>\n",
       "      <td>4226</td>\n",
       "      <td>3192840</td>\n",
       "      <td>1-406-32-1920-C4</td>\n",
       "    </tr>\n",
       "    <tr>\n",
       "      <th>4</th>\n",
       "      <td>24</td>\n",
       "      <td>18523</td>\n",
       "      <td>16232000</td>\n",
       "      <td>1-387-153-1920-D9</td>\n",
       "    </tr>\n",
       "  </tbody>\n",
       "</table>\n",
       "</div>"
      ],
      "text/plain": [
       "   TOTAL UNITS  GROSS SQUARE FEET  SALE PRICE       BuildingInfo\n",
       "0            5               6440     6625000    1-392-6-1900-C2\n",
       "1           10               6794     3936272   1-402-21-1913-C4\n",
       "2            6               4615     8000000   1-404-55-1900-C2\n",
       "3            8               4226     3192840   1-406-32-1920-C4\n",
       "4           24              18523    16232000  1-387-153-1920-D9"
      ]
     },
     "execution_count": 208,
     "metadata": {},
     "output_type": "execute_result"
    }
   ],
   "source": [
    "df_filt.head()"
   ]
  },
  {
   "cell_type": "code",
   "execution_count": 209,
   "metadata": {},
   "outputs": [
    {
     "name": "stdout",
     "output_type": "stream",
     "text": [
      "#########################################################\n",
      "              Info of the DataSet\n",
      "#########################################################\n",
      "<class 'pandas.core.frame.DataFrame'>\n",
      "Int64Index: 27155 entries, 0 to 48245\n",
      "Data columns (total 4 columns):\n",
      " #   Column             Non-Null Count  Dtype \n",
      "---  ------             --------------  ----- \n",
      " 0   TOTAL UNITS        27155 non-null  int64 \n",
      " 1   GROSS SQUARE FEET  27155 non-null  int64 \n",
      " 2   SALE PRICE         27155 non-null  int64 \n",
      " 3   BuildingInfo       27155 non-null  object\n",
      "dtypes: int64(3), object(1)\n",
      "memory usage: 1.0+ MB\n"
     ]
    }
   ],
   "source": [
    "print('#########################################################')\n",
    "print('              Info of the DataSet'                        )\n",
    "print('#########################################################')\n",
    "df_filt.info()"
   ]
  },
  {
   "cell_type": "code",
   "execution_count": 210,
   "metadata": {},
   "outputs": [
    {
     "data": {
      "image/png": "[encoded data removed]",
      "text/plain": [
       "<Figure size 720x432 with 2 Axes>"
      ]
     },
     "metadata": {
      "needs_background": "light"
     },
     "output_type": "display_data"
    }
   ],
   "source": [
    "plt.figure(figsize=(10,6))\n",
    "sns.heatmap(df_filt.corr(),cmap=plt.cm.Reds,annot=True)\n",
    "plt.title('Heatmap displaying the relationship betweenn the features of the data',\n",
    "         fontsize=13)\n",
    "plt.show()"
   ]
  },
  {
   "cell_type": "code",
   "execution_count": 211,
   "metadata": {},
   "outputs": [
    {
     "data": {
      "text/plain": [
       "<seaborn.axisgrid.PairGrid at 0x19714559370>"
      ]
     },
     "execution_count": 211,
     "metadata": {},
     "output_type": "execute_result"
    },
    {
     "data": {
      "image/png": "[encoded data removed]",
      "text/plain": [
       "<Figure size 540x540 with 12 Axes>"
      ]
     },
     "metadata": {
      "needs_background": "light"
     },
     "output_type": "display_data"
    }
   ],
   "source": [
    "sns.pairplot(df_filt)"
   ]
  },
  {
   "cell_type": "code",
   "execution_count": 167,
   "metadata": {},
   "outputs": [
    {
     "data": {
      "text/html": [
       "<div>\n",
       "<style scoped>\n",
       "    .dataframe tbody tr th:only-of-type {\n",
       "        vertical-align: middle;\n",
       "    }\n",
       "\n",
       "    .dataframe tbody tr th {\n",
       "        vertical-align: top;\n",
       "    }\n",
       "\n",
       "    .dataframe thead th {\n",
       "        text-align: right;\n",
       "    }\n",
       "</style>\n",
       "<table border=\"1\" class=\"dataframe\">\n",
       "  <thead>\n",
       "    <tr style=\"text-align: right;\">\n",
       "      <th></th>\n",
       "      <th>TOTAL UNITS</th>\n",
       "      <th>GROSS SQUARE FEET</th>\n",
       "      <th>SALE PRICE</th>\n",
       "    </tr>\n",
       "  </thead>\n",
       "  <tbody>\n",
       "    <tr>\n",
       "      <th>count</th>\n",
       "      <td>27155.00000</td>\n",
       "      <td>2.715500e+04</td>\n",
       "      <td>2.715500e+04</td>\n",
       "    </tr>\n",
       "    <tr>\n",
       "      <th>mean</th>\n",
       "      <td>3.27192</td>\n",
       "      <td>3.403748e+03</td>\n",
       "      <td>1.175735e+06</td>\n",
       "    </tr>\n",
       "    <tr>\n",
       "      <th>std</th>\n",
       "      <td>20.91236</td>\n",
       "      <td>2.787394e+04</td>\n",
       "      <td>5.566935e+06</td>\n",
       "    </tr>\n",
       "    <tr>\n",
       "      <th>min</th>\n",
       "      <td>1.00000</td>\n",
       "      <td>1.500000e+02</td>\n",
       "      <td>1.000100e+04</td>\n",
       "    </tr>\n",
       "    <tr>\n",
       "      <th>25%</th>\n",
       "      <td>1.00000</td>\n",
       "      <td>1.350000e+03</td>\n",
       "      <td>4.330000e+05</td>\n",
       "    </tr>\n",
       "    <tr>\n",
       "      <th>50%</th>\n",
       "      <td>2.00000</td>\n",
       "      <td>1.831000e+03</td>\n",
       "      <td>6.250000e+05</td>\n",
       "    </tr>\n",
       "    <tr>\n",
       "      <th>75%</th>\n",
       "      <td>2.00000</td>\n",
       "      <td>2.550000e+03</td>\n",
       "      <td>9.314490e+05</td>\n",
       "    </tr>\n",
       "    <tr>\n",
       "      <th>max</th>\n",
       "      <td>1866.00000</td>\n",
       "      <td>3.750565e+06</td>\n",
       "      <td>6.200000e+08</td>\n",
       "    </tr>\n",
       "  </tbody>\n",
       "</table>\n",
       "</div>"
      ],
      "text/plain": [
       "       TOTAL UNITS  GROSS SQUARE FEET    SALE PRICE\n",
       "count  27155.00000       2.715500e+04  2.715500e+04\n",
       "mean       3.27192       3.403748e+03  1.175735e+06\n",
       "std       20.91236       2.787394e+04  5.566935e+06\n",
       "min        1.00000       1.500000e+02  1.000100e+04\n",
       "25%        1.00000       1.350000e+03  4.330000e+05\n",
       "50%        2.00000       1.831000e+03  6.250000e+05\n",
       "75%        2.00000       2.550000e+03  9.314490e+05\n",
       "max     1866.00000       3.750565e+06  6.200000e+08"
      ]
     },
     "execution_count": 167,
     "metadata": {},
     "output_type": "execute_result"
    }
   ],
   "source": [
    "df_filt.describe()"
   ]
  },
  {
   "cell_type": "code",
   "execution_count": 33,
   "metadata": {},
   "outputs": [],
   "source": [
    "df_filt1=df_filt[df_filt['GROSS SQUARE FEET']< 1500000]\n",
    "df_filt1=df_filt[df_filt['SALE PRICE']< 320000000]"
   ]
  },
  {
   "cell_type": "code",
   "execution_count": 34,
   "metadata": {},
   "outputs": [
    {
     "data": {
      "text/plain": [
       "<seaborn.axisgrid.PairGrid at 0x1969afd3e50>"
      ]
     },
     "execution_count": 34,
     "metadata": {},
     "output_type": "execute_result"
    },
    {
     "data": {
      "image/png": "[encoded data removed]",
      "text/plain": [
       "<Figure size 540x540 with 12 Axes>"
      ]
     },
     "metadata": {
      "needs_background": "light"
     },
     "output_type": "display_data"
    }
   ],
   "source": [
    "sns.pairplot(df_filt1)"
   ]
  },
  {
   "cell_type": "code",
   "execution_count": 216,
   "metadata": {},
   "outputs": [],
   "source": [
    "#Input Feature = Total Units and Gross Square Feet\n",
    "X=df[['TOTAL UNITS', 'GROSS SQUARE FEET']]\n",
    "#Target Variable= SALE PRICE\n",
    "y=df['SALE PRICE']"
   ]
  },
  {
   "cell_type": "code",
   "execution_count": 217,
   "metadata": {},
   "outputs": [
    {
     "data": {
      "text/html": [
       "<div>\n",
       "<style scoped>\n",
       "    .dataframe tbody tr th:only-of-type {\n",
       "        vertical-align: middle;\n",
       "    }\n",
       "\n",
       "    .dataframe tbody tr th {\n",
       "        vertical-align: top;\n",
       "    }\n",
       "\n",
       "    .dataframe thead th {\n",
       "        text-align: right;\n",
       "    }\n",
       "</style>\n",
       "<table border=\"1\" class=\"dataframe\">\n",
       "  <thead>\n",
       "    <tr style=\"text-align: right;\">\n",
       "      <th></th>\n",
       "      <th>TOTAL UNITS</th>\n",
       "      <th>GROSS SQUARE FEET</th>\n",
       "    </tr>\n",
       "  </thead>\n",
       "  <tbody>\n",
       "    <tr>\n",
       "      <th>21608</th>\n",
       "      <td>2</td>\n",
       "      <td>2898</td>\n",
       "    </tr>\n",
       "    <tr>\n",
       "      <th>23391</th>\n",
       "      <td>2</td>\n",
       "      <td>1920</td>\n",
       "    </tr>\n",
       "    <tr>\n",
       "      <th>37820</th>\n",
       "      <td>1</td>\n",
       "      <td>1392</td>\n",
       "    </tr>\n",
       "    <tr>\n",
       "      <th>35798</th>\n",
       "      <td>1</td>\n",
       "      <td>1350</td>\n",
       "    </tr>\n",
       "    <tr>\n",
       "      <th>43485</th>\n",
       "      <td>1</td>\n",
       "      <td>1400</td>\n",
       "    </tr>\n",
       "    <tr>\n",
       "      <th>...</th>\n",
       "      <td>...</td>\n",
       "      <td>...</td>\n",
       "    </tr>\n",
       "    <tr>\n",
       "      <th>6339</th>\n",
       "      <td>1</td>\n",
       "      <td>1290</td>\n",
       "    </tr>\n",
       "    <tr>\n",
       "      <th>46449</th>\n",
       "      <td>1</td>\n",
       "      <td>1400</td>\n",
       "    </tr>\n",
       "    <tr>\n",
       "      <th>40510</th>\n",
       "      <td>1</td>\n",
       "      <td>1364</td>\n",
       "    </tr>\n",
       "    <tr>\n",
       "      <th>38645</th>\n",
       "      <td>1</td>\n",
       "      <td>1248</td>\n",
       "    </tr>\n",
       "    <tr>\n",
       "      <th>6118</th>\n",
       "      <td>2</td>\n",
       "      <td>2160</td>\n",
       "    </tr>\n",
       "  </tbody>\n",
       "</table>\n",
       "<p>16828 rows × 2 columns</p>\n",
       "</div>"
      ],
      "text/plain": [
       "       TOTAL UNITS  GROSS SQUARE FEET\n",
       "21608            2               2898\n",
       "23391            2               1920\n",
       "37820            1               1392\n",
       "35798            1               1350\n",
       "43485            1               1400\n",
       "...            ...                ...\n",
       "6339             1               1290\n",
       "46449            1               1400\n",
       "40510            1               1364\n",
       "38645            1               1248\n",
       "6118             2               2160\n",
       "\n",
       "[16828 rows x 2 columns]"
      ]
     },
     "execution_count": 217,
     "metadata": {},
     "output_type": "execute_result"
    }
   ],
   "source": [
    "from sklearn.model_selection import train_test_split\n",
    "X_train, X_test, y_train, y_test=train_test_split(X, y, test_size=0.4, random_state=5)\n",
    "X_train\n"
   ]
  },
  {
   "cell_type": "code",
   "execution_count": 218,
   "metadata": {},
   "outputs": [
    {
     "data": {
      "text/plain": [
       "LinearRegression()"
      ]
     },
     "execution_count": 218,
     "metadata": {},
     "output_type": "execute_result"
    }
   ],
   "source": [
    "regression=LinearRegression()\n",
    "regression.fit(X_train, y_train)"
   ]
  },
  {
   "cell_type": "code",
   "execution_count": 219,
   "metadata": {},
   "outputs": [
    {
     "data": {
      "text/html": [
       "<div>\n",
       "<style scoped>\n",
       "    .dataframe tbody tr th:only-of-type {\n",
       "        vertical-align: middle;\n",
       "    }\n",
       "\n",
       "    .dataframe tbody tr th {\n",
       "        vertical-align: top;\n",
       "    }\n",
       "\n",
       "    .dataframe thead th {\n",
       "        text-align: right;\n",
       "    }\n",
       "</style>\n",
       "<table border=\"1\" class=\"dataframe\">\n",
       "  <thead>\n",
       "    <tr style=\"text-align: right;\">\n",
       "      <th></th>\n",
       "      <th>Coefficient</th>\n",
       "    </tr>\n",
       "  </thead>\n",
       "  <tbody>\n",
       "    <tr>\n",
       "      <th>TOTAL UNITS</th>\n",
       "      <td>196119.207274</td>\n",
       "    </tr>\n",
       "    <tr>\n",
       "      <th>GROSS SQUARE FEET</th>\n",
       "      <td>-91.445578</td>\n",
       "    </tr>\n",
       "  </tbody>\n",
       "</table>\n",
       "</div>"
      ],
      "text/plain": [
       "                     Coefficient\n",
       "TOTAL UNITS        196119.207274\n",
       "GROSS SQUARE FEET     -91.445578"
      ]
     },
     "execution_count": 219,
     "metadata": {},
     "output_type": "execute_result"
    }
   ],
   "source": [
    "coeff_df_filt=pd.DataFrame(regression.coef_, X.columns, columns=['Coefficient'])\n",
    "coeff_df_filt"
   ]
  },
  {
   "cell_type": "code",
   "execution_count": 220,
   "metadata": {},
   "outputs": [],
   "source": [
    "predict=regression.predict(X_test)"
   ]
  },
  {
   "cell_type": "code",
   "execution_count": 221,
   "metadata": {},
   "outputs": [
    {
     "data": {
      "text/plain": [
       "<matplotlib.collections.PathCollection at 0x19756125c70>"
      ]
     },
     "execution_count": 221,
     "metadata": {},
     "output_type": "execute_result"
    },
    {
     "data": {
      "image/png": "[encoded data removed]",
      "text/plain": [
       "<Figure size 576x576 with 1 Axes>"
      ]
     },
     "metadata": {
      "needs_background": "light"
     },
     "output_type": "display_data"
    }
   ],
   "source": [
    "plt.scatter(y_test, predict)"
   ]
  },
  {
   "cell_type": "code",
   "execution_count": 222,
   "metadata": {},
   "outputs": [
    {
     "data": {
      "text/plain": [
       "<seaborn.axisgrid.FacetGrid at 0x197585611c0>"
      ]
     },
     "execution_count": 222,
     "metadata": {},
     "output_type": "execute_result"
    },
    {
     "data": {
      "image/png": "[encoded data removed]",
      "text/plain": [
       "<Figure size 360x360 with 1 Axes>"
      ]
     },
     "metadata": {
      "needs_background": "light"
     },
     "output_type": "display_data"
    }
   ],
   "source": [
    "sns.displot((y_test-predict), bins=50)"
   ]
  },
  {
   "cell_type": "code",
   "execution_count": null,
   "metadata": {},
   "outputs": [],
   "source": [
    "# The model as not predicted a STRONG reagression.\n",
    "# The model is not well predicted."
   ]
  },
  {
   "cell_type": "code",
   "execution_count": 145,
   "metadata": {},
   "outputs": [
    {
     "name": "stdout",
     "output_type": "stream",
     "text": [
      "                            OLS Regression Results                            \n",
      "==============================================================================\n",
      "Dep. Variable:             SALE PRICE   R-squared:                       0.151\n",
      "Model:                            OLS   Adj. R-squared:                  0.151\n",
      "Method:                 Least Squares   F-statistic:                     2999.\n",
      "Date:                Sat, 04 Dec 2021   Prob (F-statistic):               0.00\n",
      "Time:                        13:11:32   Log-Likelihood:            -2.7803e+05\n",
      "No. Observations:               16828   AIC:                         5.561e+05\n",
      "Df Residuals:                   16826   BIC:                         5.561e+05\n",
      "Df Model:                           1                                         \n",
      "Covariance Type:            nonrobust                                         \n",
      "===============================================================================\n",
      "                  coef    std err          t      P>|t|      [0.025      0.975]\n",
      "-------------------------------------------------------------------------------\n",
      "const        8.948e+05   2.83e+04     31.672      0.000    8.39e+05     9.5e+05\n",
      "TOTAL UNITS  7.085e+04   1293.646     54.765      0.000    6.83e+04    7.34e+04\n",
      "==============================================================================\n",
      "Omnibus:                    38197.584   Durbin-Watson:                   2.016\n",
      "Prob(Omnibus):                  0.000   Jarque-Bera (JB):        908357871.858\n",
      "Skew:                          21.121   Prob(JB):                         0.00\n",
      "Kurtosis:                    1140.414   Cond. No.                         22.1\n",
      "==============================================================================\n",
      "\n",
      "Notes:\n",
      "[1] Standard Errors assume that the covariance matrix of the errors is correctly specified.\n"
     ]
    }
   ],
   "source": [
    "import statsmodels.api as sm\n",
    "X2 = sm.add_constant(X_train)\n",
    "est = sm.OLS(y_train,X2)\n",
    "est2 = est.fit()\n",
    "print(est2.summary())"
   ]
  },
  {
   "cell_type": "markdown",
   "metadata": {},
   "source": [
    "<h1>1.\tLINEAR Regression of NYC_Real_Estate data\n",
    "\n",
    "<h3>OVERVIEW: Target variable is ‘SALE PRICE’\n",
    "<h3>We will be using the Multiple Regression as there are more than one variable that will affect the SALE PRICE. Namely, Total Units and Gross Square Feet.\n",
    "<h3>Data has 12 columns:\n",
    "<h3>•\tBOROUGH-represents where the property is located\n",
    "<h3>•\tBLOCK/LOT: represent a unique key where for where the property is located\n",
    "<h3>•\tZIP CODE\n",
    "<h3>•\tRESIDENTIAL UNITS: the number of residential units at the property\n",
    "<h3>•\tTOTAL UNITS: Total number of units at listed property\n",
    "<h3>•\tGROSS SQUARE FEET: total area of floors of the building, incl land and interior space within building\n",
    "<h3>•\tYEAR BUILD AT TIME OF SALE: when the property was build\n",
    "<h3>•\tTAX CLASS AT TIME OF SALE: \n",
    "<h3>•\tBuilding class at time of sale: classification used to describe the property’s construction use at time of sale\n",
    "<h3>•\tSALE PRICE: what the property was sold at.\n",
    "\n",
    "<h3>Data Cleaning:\n",
    "<h3>•\tCheck for NUL values\n",
    "<h3>•\tCombined columns BOROUGH/BLOCK/LOT/YEARBUILD/BUILDING CLASS AT TIME OF SALE into one column called ‘BuildingInfo’\n",
    "<h3>•\tDropped the columns used to combine and ZIP CODE and TAX Class AT TIME OF SALE.\n",
    "<h3>•\tRemoved rows where columns = 0\n",
    "<h3>•\tFiltered SALE PRICE to a threshold of values that are over 10000; because there were 854 rows with unrealistic values below the threshold. Unrealistic for NYC standards.\n",
    "<h3>Conclusion:\n",
    "<h3>•\tMultiple Regression did not result in a good model, as the R_sqr value is very very low at 0.151\n",
    "<h3>•\tThe Coefficients:\n",
    "<h3>o\tTotal Units =196119.20\n",
    "<h3>o\tGROSS SQUARE FEET=-91.445578\n"
   ]
  },
  {
   "cell_type": "code",
   "execution_count": null,
   "metadata": {},
   "outputs": [],
   "source": []
  }
 ],
 "metadata": {
  "interpreter": {
   "hash": "9749ef84b8aedcea6438645c9d049dde2ea7b91741bf348ccf0a62d7de906346"
  },
  "kernelspec": {
   "display_name": "Python 3.8.8 64-bit ('base': conda)",
   "language": "python",
   "name": "python3"
  },
  "language_info": {
   "codemirror_mode": {
    "name": "ipython",
    "version": 3
   },
   "file_extension": ".py",
   "mimetype": "text/x-python",
   "name": "python",
   "nbconvert_exporter": "python",
   "pygments_lexer": "ipython3",
   "version": "3.8.8"
  },
  "orig_nbformat": 4
 },
 "nbformat": 4,
 "nbformat_minor": 2
}
